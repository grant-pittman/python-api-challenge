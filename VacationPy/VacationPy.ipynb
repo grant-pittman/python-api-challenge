{
 "cells": [
  {
   "cell_type": "markdown",
   "metadata": {},
   "source": [
    "# VacationPy\n",
    "----\n",
    "\n",
    "#### Note\n",
    "* Instructions have been included for each segment. You do not have to follow them exactly, but they are included to help you think through the steps."
   ]
  },
  {
   "cell_type": "code",
   "execution_count": 1,
   "metadata": {},
   "outputs": [],
   "source": [
    "# Dependencies and Setup\n",
    "import matplotlib.pyplot as plt\n",
    "import pandas as pd\n",
    "import numpy as np\n",
    "import requests\n",
    "import gmaps\n",
    "import os\n",
    "\n",
    "# Import API key\n",
    "from api_keys import g_key\n",
    "gmaps.configure(api_key = g_key)"
   ]
  },
  {
   "cell_type": "markdown",
   "metadata": {},
   "source": [
    "### Store Part I results into DataFrame\n",
    "* Load the csv exported in Part I to a DataFrame"
   ]
  },
  {
   "cell_type": "code",
   "execution_count": 2,
   "metadata": {},
   "outputs": [
    {
     "data": {
      "text/html": [
       "<div>\n",
       "<style scoped>\n",
       "    .dataframe tbody tr th:only-of-type {\n",
       "        vertical-align: middle;\n",
       "    }\n",
       "\n",
       "    .dataframe tbody tr th {\n",
       "        vertical-align: top;\n",
       "    }\n",
       "\n",
       "    .dataframe thead th {\n",
       "        text-align: right;\n",
       "    }\n",
       "</style>\n",
       "<table border=\"1\" class=\"dataframe\">\n",
       "  <thead>\n",
       "    <tr style=\"text-align: right;\">\n",
       "      <th></th>\n",
       "      <th>City</th>\n",
       "      <th>Temperature</th>\n",
       "      <th>Latitude</th>\n",
       "      <th>Wind Speed</th>\n",
       "      <th>Cloudiness</th>\n",
       "      <th>Country</th>\n",
       "      <th>Humidity</th>\n",
       "      <th>Max Temp</th>\n",
       "      <th>Longitude</th>\n",
       "    </tr>\n",
       "  </thead>\n",
       "  <tbody>\n",
       "    <tr>\n",
       "      <th>0</th>\n",
       "      <td>albany</td>\n",
       "      <td>78.01</td>\n",
       "      <td>42.60</td>\n",
       "      <td>4.74</td>\n",
       "      <td>90</td>\n",
       "      <td>US</td>\n",
       "      <td>62</td>\n",
       "      <td>78.01</td>\n",
       "      <td>-73.97</td>\n",
       "    </tr>\n",
       "    <tr>\n",
       "      <th>1</th>\n",
       "      <td>houma</td>\n",
       "      <td>84.00</td>\n",
       "      <td>29.60</td>\n",
       "      <td>3.36</td>\n",
       "      <td>1</td>\n",
       "      <td>US</td>\n",
       "      <td>61</td>\n",
       "      <td>84.00</td>\n",
       "      <td>-90.72</td>\n",
       "    </tr>\n",
       "    <tr>\n",
       "      <th>2</th>\n",
       "      <td>busselton</td>\n",
       "      <td>48.99</td>\n",
       "      <td>-33.65</td>\n",
       "      <td>4.97</td>\n",
       "      <td>77</td>\n",
       "      <td>AU</td>\n",
       "      <td>95</td>\n",
       "      <td>48.99</td>\n",
       "      <td>115.33</td>\n",
       "    </tr>\n",
       "    <tr>\n",
       "      <th>3</th>\n",
       "      <td>jamestown</td>\n",
       "      <td>73.40</td>\n",
       "      <td>42.10</td>\n",
       "      <td>3.36</td>\n",
       "      <td>1</td>\n",
       "      <td>US</td>\n",
       "      <td>49</td>\n",
       "      <td>73.40</td>\n",
       "      <td>-79.24</td>\n",
       "    </tr>\n",
       "    <tr>\n",
       "      <th>4</th>\n",
       "      <td>ushuaia</td>\n",
       "      <td>33.80</td>\n",
       "      <td>-54.80</td>\n",
       "      <td>2.24</td>\n",
       "      <td>2</td>\n",
       "      <td>AR</td>\n",
       "      <td>74</td>\n",
       "      <td>33.80</td>\n",
       "      <td>-68.30</td>\n",
       "    </tr>\n",
       "  </tbody>\n",
       "</table>\n",
       "</div>"
      ],
      "text/plain": [
       "        City  Temperature  Latitude  Wind Speed  Cloudiness Country  Humidity  \\\n",
       "0     albany        78.01     42.60        4.74          90      US        62   \n",
       "1      houma        84.00     29.60        3.36           1      US        61   \n",
       "2  busselton        48.99    -33.65        4.97          77      AU        95   \n",
       "3  jamestown        73.40     42.10        3.36           1      US        49   \n",
       "4    ushuaia        33.80    -54.80        2.24           2      AR        74   \n",
       "\n",
       "   Max Temp  Longitude  \n",
       "0     78.01     -73.97  \n",
       "1     84.00     -90.72  \n",
       "2     48.99     115.33  \n",
       "3     73.40     -79.24  \n",
       "4     33.80     -68.30  "
      ]
     },
     "execution_count": 2,
     "metadata": {},
     "output_type": "execute_result"
    }
   ],
   "source": [
    "city_data = \"../WeatherPy/city_data\"\n",
    "city_df = pd.read_csv(city_data)\n",
    "city_df.head()"
   ]
  },
  {
   "cell_type": "markdown",
   "metadata": {},
   "source": [
    "### Humidity Heatmap\n",
    "* Configure gmaps.\n",
    "* Use the Lat and Lng as locations and Humidity as the weight.\n",
    "* Add Heatmap layer to map."
   ]
  },
  {
   "cell_type": "code",
   "execution_count": 3,
   "metadata": {
    "scrolled": false
   },
   "outputs": [],
   "source": [
    "humidity = city_df[\"Humidity\"].astype(float)\n",
    "locations = city_df[[\"Latitude\", \"Longitude\"]]\n",
    "\n",
    "\n"
   ]
  },
  {
   "cell_type": "code",
   "execution_count": 4,
   "metadata": {},
   "outputs": [
    {
     "data": {
      "application/vnd.jupyter.widget-view+json": {
       "model_id": "6e10f0ead7fe4a1b8f453d5ad42e15cf",
       "version_major": 2,
       "version_minor": 0
      },
      "text/plain": [
       "Figure(layout=FigureLayout(height='420px'))"
      ]
     },
     "metadata": {},
     "output_type": "display_data"
    }
   ],
   "source": [
    "fig = gmaps.figure()\n",
    "\n",
    "\n",
    "heat_layer = gmaps.heatmap_layer(locations, weights=humidity, \n",
    "                                 dissipating=False, max_intensity=10,\n",
    "                                 point_radius=1)\n",
    "\n",
    "fig.add_layer(heat_layer)\n",
    "fig"
   ]
  },
  {
   "cell_type": "markdown",
   "metadata": {},
   "source": [
    "### Create new DataFrame fitting weather criteria\n",
    "* Narrow down the cities to fit weather conditions.\n",
    "* Drop any rows will null values."
   ]
  },
  {
   "cell_type": "code",
   "execution_count": 5,
   "metadata": {},
   "outputs": [
    {
     "data": {
      "text/html": [
       "<div>\n",
       "<style scoped>\n",
       "    .dataframe tbody tr th:only-of-type {\n",
       "        vertical-align: middle;\n",
       "    }\n",
       "\n",
       "    .dataframe tbody tr th {\n",
       "        vertical-align: top;\n",
       "    }\n",
       "\n",
       "    .dataframe thead th {\n",
       "        text-align: right;\n",
       "    }\n",
       "</style>\n",
       "<table border=\"1\" class=\"dataframe\">\n",
       "  <thead>\n",
       "    <tr style=\"text-align: right;\">\n",
       "      <th></th>\n",
       "      <th>City</th>\n",
       "      <th>Temperature</th>\n",
       "      <th>Latitude</th>\n",
       "      <th>Wind Speed</th>\n",
       "      <th>Cloudiness</th>\n",
       "      <th>Country</th>\n",
       "      <th>Humidity</th>\n",
       "      <th>Max Temp</th>\n",
       "      <th>Longitude</th>\n",
       "    </tr>\n",
       "  </thead>\n",
       "  <tbody>\n",
       "    <tr>\n",
       "      <th>32</th>\n",
       "      <td>sumbe</td>\n",
       "      <td>71.83</td>\n",
       "      <td>-11.21</td>\n",
       "      <td>8.14</td>\n",
       "      <td>0</td>\n",
       "      <td>AO</td>\n",
       "      <td>80</td>\n",
       "      <td>71.83</td>\n",
       "      <td>13.84</td>\n",
       "    </tr>\n",
       "    <tr>\n",
       "      <th>46</th>\n",
       "      <td>port hedland</td>\n",
       "      <td>73.40</td>\n",
       "      <td>-20.32</td>\n",
       "      <td>8.05</td>\n",
       "      <td>0</td>\n",
       "      <td>AU</td>\n",
       "      <td>64</td>\n",
       "      <td>73.40</td>\n",
       "      <td>118.57</td>\n",
       "    </tr>\n",
       "    <tr>\n",
       "      <th>90</th>\n",
       "      <td>cherskiy</td>\n",
       "      <td>78.98</td>\n",
       "      <td>68.75</td>\n",
       "      <td>9.48</td>\n",
       "      <td>0</td>\n",
       "      <td>RU</td>\n",
       "      <td>26</td>\n",
       "      <td>78.98</td>\n",
       "      <td>161.30</td>\n",
       "    </tr>\n",
       "    <tr>\n",
       "      <th>94</th>\n",
       "      <td>deputatskiy</td>\n",
       "      <td>79.90</td>\n",
       "      <td>69.30</td>\n",
       "      <td>7.72</td>\n",
       "      <td>0</td>\n",
       "      <td>RU</td>\n",
       "      <td>31</td>\n",
       "      <td>79.90</td>\n",
       "      <td>139.90</td>\n",
       "    </tr>\n",
       "    <tr>\n",
       "      <th>102</th>\n",
       "      <td>namibe</td>\n",
       "      <td>71.15</td>\n",
       "      <td>-15.20</td>\n",
       "      <td>3.83</td>\n",
       "      <td>0</td>\n",
       "      <td>AO</td>\n",
       "      <td>59</td>\n",
       "      <td>71.15</td>\n",
       "      <td>12.15</td>\n",
       "    </tr>\n",
       "  </tbody>\n",
       "</table>\n",
       "</div>"
      ],
      "text/plain": [
       "             City  Temperature  Latitude  Wind Speed  Cloudiness Country  \\\n",
       "32          sumbe        71.83    -11.21        8.14           0      AO   \n",
       "46   port hedland        73.40    -20.32        8.05           0      AU   \n",
       "90       cherskiy        78.98     68.75        9.48           0      RU   \n",
       "94    deputatskiy        79.90     69.30        7.72           0      RU   \n",
       "102        namibe        71.15    -15.20        3.83           0      AO   \n",
       "\n",
       "     Humidity  Max Temp  Longitude  \n",
       "32         80     71.83      13.84  \n",
       "46         64     73.40     118.57  \n",
       "90         26     78.98     161.30  \n",
       "94         31     79.90     139.90  \n",
       "102        59     71.15      12.15  "
      ]
     },
     "execution_count": 5,
     "metadata": {},
     "output_type": "execute_result"
    }
   ],
   "source": [
    "#A max temperature lower than 80 degrees but higher than 70.\n",
    "#Wind speed less than 10 mph.\n",
    "#Zero cloudiness.\n",
    "\n",
    "\n",
    "ideal_weather_df = city_df.loc[(city_df[\"Temperature\"] > 70) & (city_df[\"Temperature\"] < 80) & (city_df[\"Wind Speed\"] < 10) &(city_df[\"Cloudiness\"] == 0)].dropna()\n",
    "ideal_weather_df.head()\n"
   ]
  },
  {
   "cell_type": "markdown",
   "metadata": {},
   "source": [
    "### Hotel Map\n",
    "* Store into variable named `hotel_df`.\n",
    "* Add a \"Hotel Name\" column to the DataFrame.\n",
    "* Set parameters to search for hotels with 5000 meters.\n",
    "* Hit the Google Places API for each city's coordinates.\n",
    "* Store the first Hotel result into the DataFrame.\n",
    "* Plot markers on top of the heatmap."
   ]
  },
  {
   "cell_type": "code",
   "execution_count": 19,
   "metadata": {},
   "outputs": [],
   "source": [
    "hotel_df = []\n",
    "locations = ideal_weather_df[[\"Latitude\", \"Longitude\"]].astype(float)\n",
    "\n",
    "params = {\n",
    "    \"radius\": 50000,\n",
    "    \"keyword\": \"hotel\",\n",
    "    \"key\": g_key\n",
    "}\n",
    "\n",
    "for index, row in ideal_weather_df.iterrows():\n",
    "    # get lat, lng from df\n",
    "    lat = row[\"Latitude\"]\n",
    "    lng = row[\"Longitude\"]\n",
    "\n",
    "    # change location each iteration while leaving original params in place\n",
    "    params[\"location\"] = f\"{lat},{lng}\"\n",
    "\n",
    "    # Use the search term: \"International Airport\" and our lat/lng\n",
    "    base_url = \"https://maps.googleapis.com/maps/api/place/nearbysearch/json\"\n",
    "    \n",
    "    hotel_request = requests.get(base_url, params=params)\n",
    "    hotel_response = hotel_request.json()\n",
    "\n",
    "    try:\n",
    "        hotel_df.append(hotel_response[\"results\"][0][\"name\"])\n",
    "    \n",
    "    except:\n",
    "        hotel_df.append(\"Nearest Hotel not Found\")\n",
    "    \n",
    "\n",
    "hotel_layer = gmaps.symbol_layer(\n",
    "    locations, fill_color='rgba(0, 150, 0, 0.4)',\n",
    "    stroke_color='rgba(0, 0, 150, 0.4)', scale=2,)\n",
    "\n",
    "\n",
    "fig = gmaps.figure()\n",
    "fig.add_layer(hotel_layer)\n",
    "\n",
    "fig\n",
    "\n",
    "ideal_weather_df[\"Hotel Name\"] = hotel_df\n"
   ]
  },
  {
   "cell_type": "code",
   "execution_count": 20,
   "metadata": {},
   "outputs": [],
   "source": [
    "# NOTE: Do not change any of the code in this cell\n",
    "\n",
    "# Using the template add the hotel marks to the heatmap\n",
    "info_box_template = \"\"\"\n",
    "<dl>\n",
    "<dt>Name</dt><dd>{Hotel Name}</dd>\n",
    "<dt>City</dt><dd>{City}</dd>\n",
    "<dt>Country</dt><dd>{Country}</dd>\n",
    "</dl>\n",
    "\"\"\"\n",
    "# Store the DataFrame Row\n",
    "# NOTE: be sure to update with your DataFrame name\n",
    "hotel_info = [info_box_template.format(**row) for index, row in ideal_weather_df.iterrows()]\n",
    "#locations = hotel_df[[\"Lat\", \"Lng\"]]"
   ]
  },
  {
   "cell_type": "code",
   "execution_count": 21,
   "metadata": {},
   "outputs": [
    {
     "data": {
      "application/vnd.jupyter.widget-view+json": {
       "model_id": "f538263813f24765b7a1adc6340d2459",
       "version_major": 2,
       "version_minor": 0
      },
      "text/plain": [
       "Figure(layout=FigureLayout(height='420px'))"
      ]
     },
     "metadata": {},
     "output_type": "display_data"
    }
   ],
   "source": [
    "# Add marker layer ontop of heat map\n",
    "fig = gmaps.figure()\n",
    "fig.add_layer(hotel_layer)\n",
    "fig.add_layer(heat_layer)\n",
    "\n",
    "\n",
    "fig\n",
    "\n",
    "\n",
    "\n",
    "# Display Map"
   ]
  },
  {
   "cell_type": "code",
   "execution_count": null,
   "metadata": {},
   "outputs": [],
   "source": []
  }
 ],
 "metadata": {
  "kernelspec": {
   "display_name": "Python 3",
   "language": "python",
   "name": "python3"
  },
  "language_info": {
   "codemirror_mode": {
    "name": "ipython",
    "version": 3
   },
   "file_extension": ".py",
   "mimetype": "text/x-python",
   "name": "python",
   "nbconvert_exporter": "python",
   "pygments_lexer": "ipython3",
   "version": "3.7.6"
  },
  "latex_envs": {
   "LaTeX_envs_menu_present": true,
   "autoclose": false,
   "autocomplete": true,
   "bibliofile": "biblio.bib",
   "cite_by": "apalike",
   "current_citInitial": 1,
   "eqLabelWithNumbers": true,
   "eqNumInitial": 1,
   "hotkeys": {
    "equation": "Ctrl-E",
    "itemize": "Ctrl-I"
   },
   "labels_anchors": false,
   "latex_user_defs": false,
   "report_style_numbering": false,
   "user_envs_cfg": false
  }
 },
 "nbformat": 4,
 "nbformat_minor": 2
}
